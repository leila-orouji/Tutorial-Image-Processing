{
 "cells": [
  {
   "cell_type": "code",
   "execution_count": 1,
   "metadata": {},
   "outputs": [
    {
     "name": "stdout",
     "output_type": "stream",
     "text": [
      "{'<oov>': 1, 'my': 2, 'love': 3, 'dog': 4, 'i': 5, 'you': 6, 'cat': 7, 'do': 8, 'think': 9, 'is': 10, 'amazing': 11}\n",
      "[[5, 3, 2, 4], [5, 3, 2, 7], [6, 3, 2, 4], [8, 6, 9, 2, 4, 10, 11]]\n",
      "[[5, 1, 3, 2, 4, 2, 4, 1, 2, 1]]\n"
     ]
    }
   ],
   "source": [
    "from tensorflow.keras.preprocessing.text import Tokenizer\n",
    "\n",
    "sentences = [\n",
    "    ' i love my dog',\n",
    "    'I, love My cat',\n",
    "    'You Love my dog !',\n",
    "    'Do you think my dog is amazing?'\n",
    "]\n",
    "\n",
    "# oov_token=\"<oov>\"  --> assigning unknown tokens too <oov> token\n",
    "\n",
    "tokenizer = Tokenizer(num_words = 100, oov_token=\"<oov>\")\n",
    "tokenizer.fit_on_texts(sentences)\n",
    "word_index = tokenizer.word_index\n",
    "\n",
    "sequences = tokenizer.texts_to_sequences(sentences)\n",
    "\n",
    "print(word_index)\n",
    "print(sequences)\n",
    "\n",
    "test_data = [\n",
    "    'I really love my dog.'\n",
    "    'my dog loves my manatee'\n",
    "]\n",
    "\n",
    "test_sequences = tokenizer.texts_to_sequences(test_data)\n",
    "\n",
    "print(test_sequences)"
   ]
  },
  {
   "cell_type": "code",
   "execution_count": 2,
   "metadata": {},
   "outputs": [
    {
     "name": "stdout",
     "output_type": "stream",
     "text": [
      "\n",
      "Word index:  {'<oov>': 1, 'my': 2, 'love': 3, 'dog': 4, 'i': 5, 'you': 6, 'cat': 7, 'do': 8, 'think': 9, 'is': 10, 'amazing': 11, 'loves': 12}\n",
      "\n",
      "Sequences:  [[5, 3, 2, 4], [5, 3, 2, 7], [6, 3, 2, 4], [8, 6, 9, 2, 4, 10, 11, 12]]\n",
      "\n",
      "Padded :  [[5 3 2 4 0]\n",
      " [5 3 2 7 0]\n",
      " [6 3 2 4 0]\n",
      " [8 6 9 2 4]]\n",
      "\n",
      "Test sequences:  [[5, 1, 3, 2, 4, 2, 4, 12, 2, 1]]\n",
      "\n",
      "Padded Test sequences:  [[ 5  1  3  2  4  2  4 12  2  1]]\n"
     ]
    }
   ],
   "source": [
    "import tensorflow as tf\n",
    "from tensorflow import keras\n",
    "\n",
    "from tensorflow.keras.preprocessing.text import Tokenizer\n",
    "# add padding\n",
    "from tensorflow.keras.preprocessing.sequence import pad_sequences\n",
    "\n",
    "sentences = [\n",
    "    ' i love my dog',\n",
    "    'I, love My cat',\n",
    "    'You Love my dog !',\n",
    "    'Do you think my dog is amazing loves?'\n",
    "]\n",
    "\n",
    "# oov_token=\"<oov>\"  --> assigning unknown tokens too <oov> token\n",
    "\n",
    "tokenizer = Tokenizer(num_words = 100, oov_token=\"<oov>\")\n",
    "tokenizer.fit_on_texts(sentences)\n",
    "word_index = tokenizer.word_index\n",
    "\n",
    "sequences = tokenizer.texts_to_sequences(sentences)\n",
    "\n",
    "# padding begining from the PRE by default\n",
    "# padding = 'post' --> padding begining from the POST\n",
    "# maxlen --> toadjust max length of word in sentences. sentences with more words,\n",
    "# will lose informatin from the beggining of sentence by default\n",
    "# truncating='post' --> if you want to lose information from the end of sentence\n",
    "\n",
    "padded = pad_sequences(sequences, padding='post',\n",
    "                                   maxlen=5,\n",
    "                                  truncating='post')\n",
    "\n",
    "print('\\nWord index: ', word_index)\n",
    "print('\\nSequences: ',sequences)\n",
    "print('\\nPadded : ', padded)\n",
    "\n",
    "\n",
    "# try with words that the tolenizer wasn't fit to\n",
    "test_data = [\n",
    "    'I really love my dog.'\n",
    "    'my dog loves my manatee'\n",
    "]\n",
    "\n",
    "test_sequences = tokenizer.texts_to_sequences(test_data)\n",
    "\n",
    "print('\\nTest sequences: ',test_sequences)\n",
    "\n",
    "padded = pad_sequences(test_sequences, maxlen=10)\n",
    "print('\\nPadded Test sequences: ',padded)\n"
   ]
  },
  {
   "cell_type": "code",
   "execution_count": 12,
   "metadata": {},
   "outputs": [
    {
     "name": "stdout",
     "output_type": "stream",
     "text": [
      "\n",
      "padded.shape:  (89, 17)\n",
      "\n",
      "Padded[0] :  [89 90 91 92 93 94 95 96 97  5 35 98  0  0  0  0  0]\n",
      "649\n",
      "(89, 17)\n"
     ]
    }
   ],
   "source": [
    "import json\n",
    "\n",
    "with open('Sarcasm.json', 'r') as f:\n",
    "    datastore = json.load(f)\n",
    "    \n",
    "\n",
    "#     datastore = json.detect_encoding()\n",
    "\n",
    "sentences = []\n",
    "labels = []\n",
    "urls = []\n",
    "\n",
    "for item in datastore:\n",
    "    sentences.append(item['headline'])\n",
    "    labels.append(item['is_sarcastic'])\n",
    "    urls.append(item['article_link'])\n",
    "    \n",
    "from tensorflow.keras.preprocessing.text import Tokenizer\n",
    "# add padding\n",
    "from tensorflow.keras.preprocessing.sequence import pad_sequences\n",
    "\n",
    "tokenizer = Tokenizer(oov_token=\"<oov>\")\n",
    "tokenizer.fit_on_texts(sentences)\n",
    "word_index = tokenizer.word_index\n",
    "sequences = tokenizer.texts_to_sequences(sentences)\n",
    "padded = pad_sequences(sequences, padding='post')\n",
    "\n",
    "print('\\npadded.shape: ',padded.shape)\n",
    "print('\\nPadded[0] : ', padded[0]) \n",
    "print('number of unique words:', len(word_index))\n",
    "print(padded.shape)"
   ]
  },
  {
   "cell_type": "code",
   "execution_count": 43,
   "metadata": {
    "collapsed": true
   },
   "outputs": [
    {
     "name": "stdout",
     "output_type": "stream",
     "text": [
      "1.15.0\n"
     ]
    },
    {
     "name": "stderr",
     "output_type": "stream",
     "text": [
      "WARNING: You are using pip version 20.0.2; however, version 20.2.3 is available.\n",
      "You should consider upgrading via the 'c:\\users\\leila\\anaconda3\\pythonw.exe -m pip install --upgrade pip' command.\n"
     ]
    },
    {
     "name": "stdout",
     "output_type": "stream",
     "text": [
      "? ? ? ? ? ? ? ? ? ? ? ? ? ? ? ? ? ? ? ? ? ? ? ? ? ? ? ? ? ? b'this is the kind of film for a snowy sunday afternoon when the rest of the world can go ahead with its own business as you <OOV> into a big arm chair and <OOV> for a couple of hours wonderful performances from cher and nicolas cage as always gently row the plot along there are no <OOV> to cross no dangerous waters just a warm and witty <OOV> through new york life at its best a family film in every sense and one that deserves the praise it received '\n",
      "b'This is the kind of film for a snowy Sunday afternoon when the rest of the world can go ahead with its own business as you descend into a big arm-chair and mellow for a couple of hours. Wonderful performances from Cher and Nicolas Cage (as always) gently row the plot along. There are no rapids to cross, no dangerous waters, just a warm and witty paddle through New York life at its best. A family film in every sense and one that deserves the praise it received.'\n"
     ]
    }
   ],
   "source": []
  },
  {
   "cell_type": "code",
   "execution_count": 45,
   "metadata": {
    "collapsed": true
   },
   "outputs": [
    {
     "name": "stdout",
     "output_type": "stream",
     "text": [
      "Model: \"sequential_4\"\n",
      "_________________________________________________________________\n",
      "Layer (type)                 Output Shape              Param #   \n",
      "=================================================================\n",
      "embedding_4 (Embedding)      (None, 120, 16)           160000    \n",
      "_________________________________________________________________\n",
      "global_average_pooling1d_2 ( (None, 16)                0         \n",
      "_________________________________________________________________\n",
      "dense_8 (Dense)              (None, 6)                 102       \n",
      "_________________________________________________________________\n",
      "dense_9 (Dense)              (None, 1)                 7         \n",
      "=================================================================\n",
      "Total params: 160,109\n",
      "Trainable params: 160,109\n",
      "Non-trainable params: 0\n",
      "_________________________________________________________________\n",
      "Train on 25000 samples, validate on 25000 samples\n",
      "Epoch 1/10\n",
      "25000/25000 [==============================] - ETA: 18:00 - loss: 0.6921 - acc: 0.62 - ETA: 2:03 - loss: 0.6929 - acc: 0.4896 - ETA: 59s - loss: 0.6929 - acc: 0.503 - ETA: 40s - loss: 0.6928 - acc: 0.52 - ETA: 32s - loss: 0.6927 - acc: 0.52 - ETA: 25s - loss: 0.6923 - acc: 0.52 - ETA: 22s - loss: 0.6920 - acc: 0.53 - ETA: 19s - loss: 0.6916 - acc: 0.53 - ETA: 18s - loss: 0.6915 - acc: 0.53 - ETA: 16s - loss: 0.6911 - acc: 0.54 - ETA: 15s - loss: 0.6907 - acc: 0.55 - ETA: 14s - loss: 0.6903 - acc: 0.56 - ETA: 13s - loss: 0.6899 - acc: 0.57 - ETA: 13s - loss: 0.6894 - acc: 0.57 - ETA: 12s - loss: 0.6886 - acc: 0.57 - ETA: 11s - loss: 0.6884 - acc: 0.57 - ETA: 11s - loss: 0.6881 - acc: 0.57 - ETA: 10s - loss: 0.6874 - acc: 0.58 - ETA: 10s - loss: 0.6868 - acc: 0.58 - ETA: 9s - loss: 0.6858 - acc: 0.5956 - ETA: 9s - loss: 0.6851 - acc: 0.599 - ETA: 9s - loss: 0.6841 - acc: 0.600 - ETA: 8s - loss: 0.6835 - acc: 0.601 - ETA: 8s - loss: 0.6825 - acc: 0.605 - ETA: 8s - loss: 0.6815 - acc: 0.610 - ETA: 7s - loss: 0.6803 - acc: 0.616 - ETA: 7s - loss: 0.6796 - acc: 0.616 - ETA: 7s - loss: 0.6783 - acc: 0.621 - ETA: 7s - loss: 0.6770 - acc: 0.625 - ETA: 6s - loss: 0.6758 - acc: 0.629 - ETA: 6s - loss: 0.6746 - acc: 0.632 - ETA: 6s - loss: 0.6732 - acc: 0.636 - ETA: 6s - loss: 0.6717 - acc: 0.637 - ETA: 6s - loss: 0.6697 - acc: 0.642 - ETA: 5s - loss: 0.6684 - acc: 0.644 - ETA: 5s - loss: 0.6672 - acc: 0.646 - ETA: 5s - loss: 0.6657 - acc: 0.650 - ETA: 5s - loss: 0.6640 - acc: 0.654 - ETA: 5s - loss: 0.6621 - acc: 0.658 - ETA: 5s - loss: 0.6601 - acc: 0.661 - ETA: 4s - loss: 0.6584 - acc: 0.664 - ETA: 4s - loss: 0.6566 - acc: 0.666 - ETA: 4s - loss: 0.6545 - acc: 0.669 - ETA: 4s - loss: 0.6523 - acc: 0.671 - ETA: 4s - loss: 0.6510 - acc: 0.672 - ETA: 4s - loss: 0.6493 - acc: 0.674 - ETA: 4s - loss: 0.6477 - acc: 0.676 - ETA: 4s - loss: 0.6461 - acc: 0.678 - ETA: 4s - loss: 0.6443 - acc: 0.679 - ETA: 3s - loss: 0.6424 - acc: 0.682 - ETA: 3s - loss: 0.6402 - acc: 0.684 - ETA: 3s - loss: 0.6383 - acc: 0.686 - ETA: 3s - loss: 0.6363 - acc: 0.688 - ETA: 3s - loss: 0.6341 - acc: 0.690 - ETA: 3s - loss: 0.6323 - acc: 0.692 - ETA: 3s - loss: 0.6305 - acc: 0.694 - ETA: 3s - loss: 0.6287 - acc: 0.695 - ETA: 3s - loss: 0.6260 - acc: 0.698 - ETA: 3s - loss: 0.6239 - acc: 0.700 - ETA: 2s - loss: 0.6218 - acc: 0.702 - ETA: 2s - loss: 0.6197 - acc: 0.704 - ETA: 2s - loss: 0.6179 - acc: 0.705 - ETA: 2s - loss: 0.6153 - acc: 0.707 - ETA: 2s - loss: 0.6138 - acc: 0.708 - ETA: 2s - loss: 0.6117 - acc: 0.710 - ETA: 2s - loss: 0.6097 - acc: 0.711 - ETA: 2s - loss: 0.6073 - acc: 0.713 - ETA: 2s - loss: 0.6057 - acc: 0.714 - ETA: 2s - loss: 0.6036 - acc: 0.716 - ETA: 2s - loss: 0.6016 - acc: 0.717 - ETA: 2s - loss: 0.5999 - acc: 0.719 - ETA: 1s - loss: 0.5979 - acc: 0.720 - ETA: 1s - loss: 0.5963 - acc: 0.721 - ETA: 1s - loss: 0.5948 - acc: 0.722 - ETA: 1s - loss: 0.5929 - acc: 0.723 - ETA: 1s - loss: 0.5910 - acc: 0.725 - ETA: 1s - loss: 0.5891 - acc: 0.726 - ETA: 1s - loss: 0.5873 - acc: 0.727 - ETA: 1s - loss: 0.5852 - acc: 0.729 - ETA: 1s - loss: 0.5836 - acc: 0.730 - ETA: 1s - loss: 0.5808 - acc: 0.732 - ETA: 1s - loss: 0.5787 - acc: 0.733 - ETA: 1s - loss: 0.5768 - acc: 0.734 - ETA: 1s - loss: 0.5755 - acc: 0.735 - ETA: 1s - loss: 0.5740 - acc: 0.736 - ETA: 0s - loss: 0.5723 - acc: 0.737 - ETA: 0s - loss: 0.5713 - acc: 0.737 - ETA: 0s - loss: 0.5700 - acc: 0.738 - ETA: 0s - loss: 0.5688 - acc: 0.739 - ETA: 0s - loss: 0.5676 - acc: 0.740 - ETA: 0s - loss: 0.5659 - acc: 0.741 - ETA: 0s - loss: 0.5654 - acc: 0.741 - ETA: 0s - loss: 0.5643 - acc: 0.742 - ETA: 0s - loss: 0.5626 - acc: 0.743 - ETA: 0s - loss: 0.5612 - acc: 0.744 - ETA: 0s - loss: 0.5592 - acc: 0.745 - ETA: 0s - loss: 0.5581 - acc: 0.746 - ETA: 0s - loss: 0.5563 - acc: 0.747 - ETA: 0s - loss: 0.5550 - acc: 0.748 - ETA: 0s - loss: 0.5536 - acc: 0.749 - ETA: 0s - loss: 0.5525 - acc: 0.749 - ETA: 0s - loss: 0.5515 - acc: 0.749 - 9s 344us/sample - loss: 0.5508 - acc: 0.7502 - val_loss: 0.3894 - val_acc: 0.8406\n",
      "Epoch 2/10\n"
     ]
    },
    {
     "name": "stdout",
     "output_type": "stream",
     "text": [
      "25000/25000 [==============================] - ETA: 7s - loss: 0.3103 - acc: 0.875 - ETA: 5s - loss: 0.4025 - acc: 0.820 - ETA: 4s - loss: 0.4122 - acc: 0.828 - ETA: 4s - loss: 0.4014 - acc: 0.835 - ETA: 5s - loss: 0.3987 - acc: 0.839 - ETA: 5s - loss: 0.3926 - acc: 0.840 - ETA: 5s - loss: 0.3914 - acc: 0.833 - ETA: 5s - loss: 0.3873 - acc: 0.839 - ETA: 5s - loss: 0.3870 - acc: 0.844 - ETA: 5s - loss: 0.3848 - acc: 0.846 - ETA: 5s - loss: 0.3848 - acc: 0.847 - ETA: 4s - loss: 0.3837 - acc: 0.848 - ETA: 5s - loss: 0.3835 - acc: 0.848 - ETA: 5s - loss: 0.3838 - acc: 0.847 - ETA: 5s - loss: 0.3829 - acc: 0.847 - ETA: 5s - loss: 0.3820 - acc: 0.847 - ETA: 5s - loss: 0.3790 - acc: 0.849 - ETA: 5s - loss: 0.3792 - acc: 0.848 - ETA: 5s - loss: 0.3754 - acc: 0.850 - ETA: 4s - loss: 0.3745 - acc: 0.851 - ETA: 5s - loss: 0.3751 - acc: 0.851 - ETA: 4s - loss: 0.3735 - acc: 0.852 - ETA: 4s - loss: 0.3720 - acc: 0.853 - ETA: 4s - loss: 0.3711 - acc: 0.853 - ETA: 4s - loss: 0.3723 - acc: 0.853 - ETA: 4s - loss: 0.3713 - acc: 0.854 - ETA: 4s - loss: 0.3700 - acc: 0.854 - ETA: 4s - loss: 0.3700 - acc: 0.854 - ETA: 4s - loss: 0.3703 - acc: 0.852 - ETA: 4s - loss: 0.3693 - acc: 0.852 - ETA: 4s - loss: 0.3680 - acc: 0.852 - ETA: 4s - loss: 0.3674 - acc: 0.852 - ETA: 4s - loss: 0.3690 - acc: 0.851 - ETA: 4s - loss: 0.3690 - acc: 0.851 - ETA: 4s - loss: 0.3684 - acc: 0.851 - ETA: 4s - loss: 0.3683 - acc: 0.851 - ETA: 4s - loss: 0.3681 - acc: 0.851 - ETA: 4s - loss: 0.3654 - acc: 0.853 - ETA: 4s - loss: 0.3644 - acc: 0.853 - ETA: 4s - loss: 0.3633 - acc: 0.854 - ETA: 4s - loss: 0.3624 - acc: 0.854 - ETA: 4s - loss: 0.3608 - acc: 0.855 - ETA: 4s - loss: 0.3604 - acc: 0.856 - ETA: 3s - loss: 0.3596 - acc: 0.856 - ETA: 3s - loss: 0.3578 - acc: 0.857 - ETA: 3s - loss: 0.3573 - acc: 0.857 - ETA: 3s - loss: 0.3568 - acc: 0.857 - ETA: 3s - loss: 0.3567 - acc: 0.858 - ETA: 3s - loss: 0.3564 - acc: 0.857 - ETA: 3s - loss: 0.3557 - acc: 0.858 - ETA: 3s - loss: 0.3560 - acc: 0.857 - ETA: 3s - loss: 0.3564 - acc: 0.857 - ETA: 3s - loss: 0.3555 - acc: 0.857 - ETA: 3s - loss: 0.3551 - acc: 0.857 - ETA: 3s - loss: 0.3552 - acc: 0.857 - ETA: 3s - loss: 0.3551 - acc: 0.857 - ETA: 3s - loss: 0.3534 - acc: 0.858 - ETA: 3s - loss: 0.3530 - acc: 0.858 - ETA: 3s - loss: 0.3521 - acc: 0.858 - ETA: 3s - loss: 0.3518 - acc: 0.858 - ETA: 3s - loss: 0.3511 - acc: 0.858 - ETA: 3s - loss: 0.3495 - acc: 0.859 - ETA: 3s - loss: 0.3490 - acc: 0.859 - ETA: 3s - loss: 0.3488 - acc: 0.859 - ETA: 2s - loss: 0.3484 - acc: 0.859 - ETA: 2s - loss: 0.3485 - acc: 0.859 - ETA: 2s - loss: 0.3480 - acc: 0.859 - ETA: 2s - loss: 0.3485 - acc: 0.859 - ETA: 2s - loss: 0.3483 - acc: 0.858 - ETA: 2s - loss: 0.3480 - acc: 0.859 - ETA: 2s - loss: 0.3484 - acc: 0.858 - ETA: 2s - loss: 0.3483 - acc: 0.858 - ETA: 2s - loss: 0.3480 - acc: 0.858 - ETA: 2s - loss: 0.3469 - acc: 0.859 - ETA: 2s - loss: 0.3465 - acc: 0.859 - ETA: 2s - loss: 0.3467 - acc: 0.860 - ETA: 2s - loss: 0.3467 - acc: 0.860 - ETA: 2s - loss: 0.3461 - acc: 0.860 - ETA: 2s - loss: 0.3461 - acc: 0.860 - ETA: 2s - loss: 0.3447 - acc: 0.861 - ETA: 2s - loss: 0.3448 - acc: 0.860 - ETA: 1s - loss: 0.3449 - acc: 0.860 - ETA: 1s - loss: 0.3440 - acc: 0.861 - ETA: 1s - loss: 0.3433 - acc: 0.861 - ETA: 1s - loss: 0.3428 - acc: 0.861 - ETA: 1s - loss: 0.3424 - acc: 0.861 - ETA: 1s - loss: 0.3417 - acc: 0.862 - ETA: 1s - loss: 0.3411 - acc: 0.862 - ETA: 1s - loss: 0.3409 - acc: 0.862 - ETA: 1s - loss: 0.3399 - acc: 0.862 - ETA: 1s - loss: 0.3393 - acc: 0.862 - ETA: 1s - loss: 0.3395 - acc: 0.862 - ETA: 1s - loss: 0.3400 - acc: 0.862 - ETA: 1s - loss: 0.3395 - acc: 0.862 - ETA: 1s - loss: 0.3393 - acc: 0.862 - ETA: 1s - loss: 0.3397 - acc: 0.861 - ETA: 0s - loss: 0.3389 - acc: 0.862 - ETA: 0s - loss: 0.3381 - acc: 0.862 - ETA: 0s - loss: 0.3383 - acc: 0.862 - ETA: 0s - loss: 0.3379 - acc: 0.862 - ETA: 0s - loss: 0.3383 - acc: 0.862 - ETA: 0s - loss: 0.3380 - acc: 0.862 - ETA: 0s - loss: 0.3376 - acc: 0.862 - ETA: 0s - loss: 0.3369 - acc: 0.862 - ETA: 0s - loss: 0.3361 - acc: 0.863 - ETA: 0s - loss: 0.3359 - acc: 0.863 - ETA: 0s - loss: 0.3355 - acc: 0.863 - ETA: 0s - loss: 0.3351 - acc: 0.863 - ETA: 0s - loss: 0.3348 - acc: 0.863 - ETA: 0s - loss: 0.3344 - acc: 0.864 - ETA: 0s - loss: 0.3344 - acc: 0.864 - ETA: 0s - loss: 0.3337 - acc: 0.864 - 8s 317us/sample - loss: 0.3336 - acc: 0.8645 - val_loss: 0.3327 - val_acc: 0.8575\n",
      "Epoch 3/10\n"
     ]
    },
    {
     "name": "stdout",
     "output_type": "stream",
     "text": [
      "25000/25000 [==============================] - ETA: 9s - loss: 0.3440 - acc: 0.875 - ETA: 7s - loss: 0.2993 - acc: 0.870 - ETA: 7s - loss: 0.2765 - acc: 0.891 - ETA: 6s - loss: 0.2830 - acc: 0.883 - ETA: 6s - loss: 0.2810 - acc: 0.886 - ETA: 6s - loss: 0.2784 - acc: 0.892 - ETA: 6s - loss: 0.2784 - acc: 0.895 - ETA: 6s - loss: 0.2762 - acc: 0.895 - ETA: 6s - loss: 0.2731 - acc: 0.895 - ETA: 6s - loss: 0.2731 - acc: 0.895 - ETA: 6s - loss: 0.2714 - acc: 0.895 - ETA: 6s - loss: 0.2720 - acc: 0.895 - ETA: 6s - loss: 0.2769 - acc: 0.894 - ETA: 6s - loss: 0.2837 - acc: 0.891 - ETA: 5s - loss: 0.2879 - acc: 0.886 - ETA: 5s - loss: 0.2857 - acc: 0.887 - ETA: 5s - loss: 0.2837 - acc: 0.888 - ETA: 5s - loss: 0.2820 - acc: 0.889 - ETA: 5s - loss: 0.2808 - acc: 0.889 - ETA: 5s - loss: 0.2793 - acc: 0.890 - ETA: 5s - loss: 0.2789 - acc: 0.891 - ETA: 5s - loss: 0.2758 - acc: 0.893 - ETA: 5s - loss: 0.2769 - acc: 0.892 - ETA: 5s - loss: 0.2762 - acc: 0.893 - ETA: 5s - loss: 0.2765 - acc: 0.892 - ETA: 5s - loss: 0.2771 - acc: 0.891 - ETA: 5s - loss: 0.2781 - acc: 0.891 - ETA: 5s - loss: 0.2758 - acc: 0.893 - ETA: 5s - loss: 0.2745 - acc: 0.894 - ETA: 5s - loss: 0.2741 - acc: 0.894 - ETA: 5s - loss: 0.2741 - acc: 0.894 - ETA: 5s - loss: 0.2756 - acc: 0.894 - ETA: 5s - loss: 0.2744 - acc: 0.895 - ETA: 5s - loss: 0.2751 - acc: 0.894 - ETA: 5s - loss: 0.2746 - acc: 0.894 - ETA: 5s - loss: 0.2751 - acc: 0.894 - ETA: 5s - loss: 0.2736 - acc: 0.895 - ETA: 5s - loss: 0.2747 - acc: 0.895 - ETA: 5s - loss: 0.2746 - acc: 0.895 - ETA: 4s - loss: 0.2737 - acc: 0.895 - ETA: 4s - loss: 0.2746 - acc: 0.895 - ETA: 4s - loss: 0.2743 - acc: 0.895 - ETA: 4s - loss: 0.2744 - acc: 0.895 - ETA: 4s - loss: 0.2744 - acc: 0.895 - ETA: 4s - loss: 0.2732 - acc: 0.896 - ETA: 4s - loss: 0.2728 - acc: 0.896 - ETA: 4s - loss: 0.2720 - acc: 0.896 - ETA: 4s - loss: 0.2711 - acc: 0.897 - ETA: 4s - loss: 0.2706 - acc: 0.897 - ETA: 4s - loss: 0.2703 - acc: 0.897 - ETA: 4s - loss: 0.2706 - acc: 0.897 - ETA: 4s - loss: 0.2704 - acc: 0.897 - ETA: 4s - loss: 0.2708 - acc: 0.897 - ETA: 4s - loss: 0.2704 - acc: 0.897 - ETA: 4s - loss: 0.2697 - acc: 0.897 - ETA: 4s - loss: 0.2693 - acc: 0.897 - ETA: 4s - loss: 0.2686 - acc: 0.897 - ETA: 4s - loss: 0.2684 - acc: 0.897 - ETA: 4s - loss: 0.2687 - acc: 0.897 - ETA: 4s - loss: 0.2693 - acc: 0.897 - ETA: 3s - loss: 0.2695 - acc: 0.897 - ETA: 3s - loss: 0.2716 - acc: 0.896 - ETA: 3s - loss: 0.2710 - acc: 0.896 - ETA: 3s - loss: 0.2707 - acc: 0.896 - ETA: 3s - loss: 0.2703 - acc: 0.896 - ETA: 3s - loss: 0.2706 - acc: 0.896 - ETA: 3s - loss: 0.2706 - acc: 0.895 - ETA: 3s - loss: 0.2704 - acc: 0.895 - ETA: 3s - loss: 0.2703 - acc: 0.896 - ETA: 3s - loss: 0.2714 - acc: 0.895 - ETA: 3s - loss: 0.2704 - acc: 0.896 - ETA: 3s - loss: 0.2701 - acc: 0.896 - ETA: 3s - loss: 0.2703 - acc: 0.896 - ETA: 3s - loss: 0.2705 - acc: 0.896 - ETA: 3s - loss: 0.2708 - acc: 0.896 - ETA: 3s - loss: 0.2706 - acc: 0.896 - ETA: 3s - loss: 0.2714 - acc: 0.896 - ETA: 3s - loss: 0.2715 - acc: 0.895 - ETA: 3s - loss: 0.2712 - acc: 0.895 - ETA: 2s - loss: 0.2714 - acc: 0.895 - ETA: 2s - loss: 0.2716 - acc: 0.895 - ETA: 2s - loss: 0.2718 - acc: 0.895 - ETA: 2s - loss: 0.2711 - acc: 0.895 - ETA: 2s - loss: 0.2711 - acc: 0.895 - ETA: 2s - loss: 0.2711 - acc: 0.895 - ETA: 2s - loss: 0.2712 - acc: 0.895 - ETA: 2s - loss: 0.2715 - acc: 0.895 - ETA: 2s - loss: 0.2713 - acc: 0.895 - ETA: 2s - loss: 0.2712 - acc: 0.895 - ETA: 2s - loss: 0.2710 - acc: 0.895 - ETA: 2s - loss: 0.2707 - acc: 0.895 - ETA: 2s - loss: 0.2710 - acc: 0.895 - ETA: 2s - loss: 0.2718 - acc: 0.895 - ETA: 2s - loss: 0.2714 - acc: 0.895 - ETA: 2s - loss: 0.2711 - acc: 0.895 - ETA: 2s - loss: 0.2714 - acc: 0.894 - ETA: 2s - loss: 0.2721 - acc: 0.894 - ETA: 2s - loss: 0.2718 - acc: 0.894 - ETA: 2s - loss: 0.2712 - acc: 0.895 - ETA: 1s - loss: 0.2714 - acc: 0.895 - ETA: 1s - loss: 0.2716 - acc: 0.895 - ETA: 1s - loss: 0.2717 - acc: 0.894 - ETA: 1s - loss: 0.2712 - acc: 0.895 - ETA: 1s - loss: 0.2711 - acc: 0.895 - ETA: 1s - loss: 0.2709 - acc: 0.895 - ETA: 1s - loss: 0.2710 - acc: 0.895 - ETA: 1s - loss: 0.2709 - acc: 0.895 - ETA: 1s - loss: 0.2712 - acc: 0.895 - ETA: 1s - loss: 0.2721 - acc: 0.894 - ETA: 1s - loss: 0.2723 - acc: 0.894 - ETA: 1s - loss: 0.2727 - acc: 0.894 - ETA: 1s - loss: 0.2726 - acc: 0.894 - ETA: 1s - loss: 0.2725 - acc: 0.893 - ETA: 1s - loss: 0.2724 - acc: 0.894 - ETA: 1s - loss: 0.2722 - acc: 0.894 - ETA: 1s - loss: 0.2721 - acc: 0.894 - ETA: 0s - loss: 0.2726 - acc: 0.893 - ETA: 0s - loss: 0.2729 - acc: 0.893 - ETA: 0s - loss: 0.2723 - acc: 0.893 - ETA: 0s - loss: 0.2724 - acc: 0.893 - ETA: 0s - loss: 0.2720 - acc: 0.893 - ETA: 0s - loss: 0.2720 - acc: 0.893 - ETA: 0s - loss: 0.2725 - acc: 0.893 - ETA: 0s - loss: 0.2724 - acc: 0.893 - ETA: 0s - loss: 0.2722 - acc: 0.893 - ETA: 0s - loss: 0.2724 - acc: 0.893 - ETA: 0s - loss: 0.2724 - acc: 0.893 - ETA: 0s - loss: 0.2725 - acc: 0.892 - ETA: 0s - loss: 0.2723 - acc: 0.892 - ETA: 0s - loss: 0.2716 - acc: 0.893 - ETA: 0s - loss: 0.2715 - acc: 0.893 - ETA: 0s - loss: 0.2716 - acc: 0.893 - ETA: 0s - loss: 0.2717 - acc: 0.893 - ETA: 0s - loss: 0.2715 - acc: 0.893 - 9s 363us/sample - loss: 0.2714 - acc: 0.8934 - val_loss: 0.3308 - val_acc: 0.8568\n",
      "Epoch 4/10\n"
     ]
    },
    {
     "name": "stdout",
     "output_type": "stream",
     "text": [
      "25000/25000 [==============================] - ETA: 7s - loss: 0.1285 - acc: 0.968 - ETA: 8s - loss: 0.2101 - acc: 0.919 - ETA: 7s - loss: 0.1995 - acc: 0.927 - ETA: 7s - loss: 0.2048 - acc: 0.925 - ETA: 7s - loss: 0.2013 - acc: 0.927 - ETA: 7s - loss: 0.2315 - acc: 0.919 - ETA: 7s - loss: 0.2304 - acc: 0.922 - ETA: 7s - loss: 0.2379 - acc: 0.914 - ETA: 7s - loss: 0.2344 - acc: 0.912 - ETA: 6s - loss: 0.2285 - acc: 0.915 - ETA: 6s - loss: 0.2361 - acc: 0.912 - ETA: 6s - loss: 0.2352 - acc: 0.913 - ETA: 6s - loss: 0.2284 - acc: 0.916 - ETA: 6s - loss: 0.2275 - acc: 0.915 - ETA: 6s - loss: 0.2268 - acc: 0.916 - ETA: 6s - loss: 0.2307 - acc: 0.915 - ETA: 6s - loss: 0.2324 - acc: 0.913 - ETA: 6s - loss: 0.2334 - acc: 0.913 - ETA: 6s - loss: 0.2320 - acc: 0.914 - ETA: 6s - loss: 0.2340 - acc: 0.913 - ETA: 6s - loss: 0.2348 - acc: 0.912 - ETA: 6s - loss: 0.2327 - acc: 0.913 - ETA: 6s - loss: 0.2325 - acc: 0.912 - ETA: 6s - loss: 0.2322 - acc: 0.912 - ETA: 6s - loss: 0.2341 - acc: 0.912 - ETA: 5s - loss: 0.2330 - acc: 0.912 - ETA: 5s - loss: 0.2315 - acc: 0.912 - ETA: 5s - loss: 0.2326 - acc: 0.911 - ETA: 5s - loss: 0.2330 - acc: 0.910 - ETA: 5s - loss: 0.2345 - acc: 0.910 - ETA: 5s - loss: 0.2346 - acc: 0.910 - ETA: 5s - loss: 0.2357 - acc: 0.910 - ETA: 5s - loss: 0.2333 - acc: 0.912 - ETA: 5s - loss: 0.2345 - acc: 0.911 - ETA: 5s - loss: 0.2349 - acc: 0.911 - ETA: 5s - loss: 0.2357 - acc: 0.910 - ETA: 5s - loss: 0.2356 - acc: 0.910 - ETA: 5s - loss: 0.2351 - acc: 0.910 - ETA: 5s - loss: 0.2344 - acc: 0.910 - ETA: 5s - loss: 0.2340 - acc: 0.910 - ETA: 5s - loss: 0.2335 - acc: 0.911 - ETA: 5s - loss: 0.2319 - acc: 0.912 - ETA: 5s - loss: 0.2320 - acc: 0.912 - ETA: 5s - loss: 0.2321 - acc: 0.912 - ETA: 5s - loss: 0.2319 - acc: 0.912 - ETA: 5s - loss: 0.2320 - acc: 0.912 - ETA: 4s - loss: 0.2326 - acc: 0.913 - ETA: 4s - loss: 0.2330 - acc: 0.912 - ETA: 4s - loss: 0.2334 - acc: 0.912 - ETA: 4s - loss: 0.2325 - acc: 0.912 - ETA: 4s - loss: 0.2324 - acc: 0.912 - ETA: 4s - loss: 0.2318 - acc: 0.912 - ETA: 4s - loss: 0.2329 - acc: 0.912 - ETA: 4s - loss: 0.2323 - acc: 0.912 - ETA: 4s - loss: 0.2317 - acc: 0.913 - ETA: 4s - loss: 0.2314 - acc: 0.912 - ETA: 4s - loss: 0.2329 - acc: 0.912 - ETA: 4s - loss: 0.2327 - acc: 0.912 - ETA: 4s - loss: 0.2328 - acc: 0.912 - ETA: 4s - loss: 0.2339 - acc: 0.911 - ETA: 4s - loss: 0.2339 - acc: 0.911 - ETA: 4s - loss: 0.2348 - acc: 0.911 - ETA: 4s - loss: 0.2349 - acc: 0.911 - ETA: 4s - loss: 0.2353 - acc: 0.910 - ETA: 3s - loss: 0.2354 - acc: 0.910 - ETA: 3s - loss: 0.2349 - acc: 0.910 - ETA: 3s - loss: 0.2355 - acc: 0.910 - ETA: 3s - loss: 0.2356 - acc: 0.909 - ETA: 3s - loss: 0.2355 - acc: 0.910 - ETA: 3s - loss: 0.2353 - acc: 0.909 - ETA: 3s - loss: 0.2345 - acc: 0.910 - ETA: 3s - loss: 0.2341 - acc: 0.910 - ETA: 3s - loss: 0.2340 - acc: 0.910 - ETA: 3s - loss: 0.2345 - acc: 0.910 - ETA: 3s - loss: 0.2348 - acc: 0.910 - ETA: 3s - loss: 0.2353 - acc: 0.910 - ETA: 3s - loss: 0.2347 - acc: 0.910 - ETA: 3s - loss: 0.2345 - acc: 0.910 - ETA: 3s - loss: 0.2343 - acc: 0.910 - ETA: 3s - loss: 0.2338 - acc: 0.910 - ETA: 3s - loss: 0.2335 - acc: 0.910 - ETA: 2s - loss: 0.2331 - acc: 0.910 - ETA: 2s - loss: 0.2330 - acc: 0.911 - ETA: 2s - loss: 0.2332 - acc: 0.910 - ETA: 2s - loss: 0.2333 - acc: 0.910 - ETA: 2s - loss: 0.2334 - acc: 0.910 - ETA: 2s - loss: 0.2326 - acc: 0.910 - ETA: 2s - loss: 0.2328 - acc: 0.910 - ETA: 2s - loss: 0.2332 - acc: 0.910 - ETA: 2s - loss: 0.2339 - acc: 0.910 - ETA: 2s - loss: 0.2336 - acc: 0.910 - ETA: 2s - loss: 0.2333 - acc: 0.910 - ETA: 2s - loss: 0.2331 - acc: 0.911 - ETA: 2s - loss: 0.2325 - acc: 0.911 - ETA: 2s - loss: 0.2330 - acc: 0.911 - ETA: 2s - loss: 0.2333 - acc: 0.910 - ETA: 1s - loss: 0.2333 - acc: 0.910 - ETA: 1s - loss: 0.2332 - acc: 0.910 - ETA: 1s - loss: 0.2330 - acc: 0.910 - ETA: 1s - loss: 0.2324 - acc: 0.910 - ETA: 1s - loss: 0.2327 - acc: 0.910 - ETA: 1s - loss: 0.2325 - acc: 0.910 - ETA: 1s - loss: 0.2332 - acc: 0.910 - ETA: 1s - loss: 0.2339 - acc: 0.910 - ETA: 1s - loss: 0.2345 - acc: 0.910 - ETA: 1s - loss: 0.2346 - acc: 0.909 - ETA: 1s - loss: 0.2346 - acc: 0.909 - ETA: 1s - loss: 0.2344 - acc: 0.909 - ETA: 1s - loss: 0.2341 - acc: 0.910 - ETA: 1s - loss: 0.2338 - acc: 0.910 - ETA: 1s - loss: 0.2340 - acc: 0.910 - ETA: 1s - loss: 0.2345 - acc: 0.910 - ETA: 1s - loss: 0.2341 - acc: 0.910 - ETA: 0s - loss: 0.2341 - acc: 0.910 - ETA: 0s - loss: 0.2339 - acc: 0.910 - ETA: 0s - loss: 0.2338 - acc: 0.910 - ETA: 0s - loss: 0.2334 - acc: 0.910 - ETA: 0s - loss: 0.2332 - acc: 0.910 - ETA: 0s - loss: 0.2336 - acc: 0.910 - ETA: 0s - loss: 0.2336 - acc: 0.910 - ETA: 0s - loss: 0.2336 - acc: 0.909 - ETA: 0s - loss: 0.2342 - acc: 0.909 - ETA: 0s - loss: 0.2342 - acc: 0.909 - ETA: 0s - loss: 0.2340 - acc: 0.909 - ETA: 0s - loss: 0.2339 - acc: 0.909 - ETA: 0s - loss: 0.2336 - acc: 0.909 - ETA: 0s - loss: 0.2342 - acc: 0.909 - ETA: 0s - loss: 0.2344 - acc: 0.909 - ETA: 0s - loss: 0.2349 - acc: 0.909 - ETA: 0s - loss: 0.2349 - acc: 0.909 - 9s 354us/sample - loss: 0.2349 - acc: 0.9092 - val_loss: 0.3478 - val_acc: 0.8512\n",
      "Epoch 5/10\n"
     ]
    },
    {
     "name": "stdout",
     "output_type": "stream",
     "text": [
      "25000/25000 [==============================] - ETA: 8s - loss: 0.2608 - acc: 0.937 - ETA: 6s - loss: 0.2079 - acc: 0.928 - ETA: 5s - loss: 0.2338 - acc: 0.910 - ETA: 5s - loss: 0.2254 - acc: 0.914 - ETA: 5s - loss: 0.2291 - acc: 0.918 - ETA: 5s - loss: 0.2299 - acc: 0.914 - ETA: 5s - loss: 0.2263 - acc: 0.918 - ETA: 5s - loss: 0.2224 - acc: 0.919 - ETA: 5s - loss: 0.2173 - acc: 0.921 - ETA: 5s - loss: 0.2135 - acc: 0.922 - ETA: 5s - loss: 0.2135 - acc: 0.922 - ETA: 5s - loss: 0.2136 - acc: 0.921 - ETA: 5s - loss: 0.2142 - acc: 0.921 - ETA: 5s - loss: 0.2105 - acc: 0.924 - ETA: 5s - loss: 0.2149 - acc: 0.923 - ETA: 5s - loss: 0.2141 - acc: 0.923 - ETA: 5s - loss: 0.2124 - acc: 0.924 - ETA: 5s - loss: 0.2106 - acc: 0.924 - ETA: 5s - loss: 0.2105 - acc: 0.925 - ETA: 5s - loss: 0.2115 - acc: 0.925 - ETA: 5s - loss: 0.2087 - acc: 0.926 - ETA: 5s - loss: 0.2079 - acc: 0.927 - ETA: 5s - loss: 0.2071 - acc: 0.928 - ETA: 5s - loss: 0.2062 - acc: 0.928 - ETA: 5s - loss: 0.2056 - acc: 0.928 - ETA: 5s - loss: 0.2064 - acc: 0.927 - ETA: 4s - loss: 0.2052 - acc: 0.927 - ETA: 4s - loss: 0.2042 - acc: 0.928 - ETA: 4s - loss: 0.2042 - acc: 0.928 - ETA: 4s - loss: 0.2048 - acc: 0.928 - ETA: 4s - loss: 0.2041 - acc: 0.928 - ETA: 4s - loss: 0.2049 - acc: 0.928 - ETA: 4s - loss: 0.2055 - acc: 0.927 - ETA: 4s - loss: 0.2053 - acc: 0.927 - ETA: 4s - loss: 0.2057 - acc: 0.928 - ETA: 4s - loss: 0.2053 - acc: 0.927 - ETA: 4s - loss: 0.2049 - acc: 0.927 - ETA: 4s - loss: 0.2044 - acc: 0.928 - ETA: 4s - loss: 0.2044 - acc: 0.927 - ETA: 4s - loss: 0.2050 - acc: 0.927 - ETA: 4s - loss: 0.2046 - acc: 0.927 - ETA: 4s - loss: 0.2038 - acc: 0.927 - ETA: 4s - loss: 0.2035 - acc: 0.927 - ETA: 4s - loss: 0.2039 - acc: 0.927 - ETA: 4s - loss: 0.2029 - acc: 0.927 - ETA: 4s - loss: 0.2034 - acc: 0.927 - ETA: 3s - loss: 0.2031 - acc: 0.927 - ETA: 3s - loss: 0.2033 - acc: 0.927 - ETA: 3s - loss: 0.2030 - acc: 0.927 - ETA: 3s - loss: 0.2027 - acc: 0.927 - ETA: 3s - loss: 0.2025 - acc: 0.927 - ETA: 3s - loss: 0.2017 - acc: 0.928 - ETA: 3s - loss: 0.2010 - acc: 0.928 - ETA: 3s - loss: 0.2004 - acc: 0.928 - ETA: 3s - loss: 0.2007 - acc: 0.928 - ETA: 3s - loss: 0.2007 - acc: 0.928 - ETA: 3s - loss: 0.1999 - acc: 0.928 - ETA: 3s - loss: 0.2006 - acc: 0.927 - ETA: 3s - loss: 0.2016 - acc: 0.927 - ETA: 3s - loss: 0.2023 - acc: 0.927 - ETA: 3s - loss: 0.2023 - acc: 0.926 - ETA: 3s - loss: 0.2020 - acc: 0.927 - ETA: 3s - loss: 0.2023 - acc: 0.926 - ETA: 3s - loss: 0.2022 - acc: 0.926 - ETA: 2s - loss: 0.2025 - acc: 0.926 - ETA: 2s - loss: 0.2034 - acc: 0.926 - ETA: 2s - loss: 0.2041 - acc: 0.926 - ETA: 2s - loss: 0.2034 - acc: 0.926 - ETA: 2s - loss: 0.2042 - acc: 0.925 - ETA: 2s - loss: 0.2040 - acc: 0.925 - ETA: 2s - loss: 0.2040 - acc: 0.925 - ETA: 2s - loss: 0.2042 - acc: 0.925 - ETA: 2s - loss: 0.2043 - acc: 0.925 - ETA: 2s - loss: 0.2046 - acc: 0.925 - ETA: 2s - loss: 0.2042 - acc: 0.925 - ETA: 2s - loss: 0.2045 - acc: 0.925 - ETA: 2s - loss: 0.2044 - acc: 0.925 - ETA: 2s - loss: 0.2040 - acc: 0.925 - ETA: 2s - loss: 0.2043 - acc: 0.925 - ETA: 2s - loss: 0.2047 - acc: 0.924 - ETA: 2s - loss: 0.2041 - acc: 0.925 - ETA: 2s - loss: 0.2048 - acc: 0.924 - ETA: 2s - loss: 0.2042 - acc: 0.924 - ETA: 1s - loss: 0.2041 - acc: 0.924 - ETA: 1s - loss: 0.2045 - acc: 0.924 - ETA: 1s - loss: 0.2042 - acc: 0.924 - ETA: 1s - loss: 0.2036 - acc: 0.925 - ETA: 1s - loss: 0.2041 - acc: 0.924 - ETA: 1s - loss: 0.2040 - acc: 0.924 - ETA: 1s - loss: 0.2041 - acc: 0.924 - ETA: 1s - loss: 0.2038 - acc: 0.924 - ETA: 1s - loss: 0.2049 - acc: 0.924 - ETA: 1s - loss: 0.2055 - acc: 0.924 - ETA: 1s - loss: 0.2055 - acc: 0.924 - ETA: 1s - loss: 0.2053 - acc: 0.924 - ETA: 1s - loss: 0.2059 - acc: 0.924 - ETA: 1s - loss: 0.2067 - acc: 0.923 - ETA: 1s - loss: 0.2072 - acc: 0.923 - ETA: 1s - loss: 0.2076 - acc: 0.923 - ETA: 1s - loss: 0.2076 - acc: 0.923 - ETA: 1s - loss: 0.2080 - acc: 0.923 - ETA: 1s - loss: 0.2084 - acc: 0.923 - ETA: 0s - loss: 0.2084 - acc: 0.923 - ETA: 0s - loss: 0.2086 - acc: 0.923 - ETA: 0s - loss: 0.2090 - acc: 0.922 - ETA: 0s - loss: 0.2091 - acc: 0.922 - ETA: 0s - loss: 0.2093 - acc: 0.922 - ETA: 0s - loss: 0.2097 - acc: 0.922 - ETA: 0s - loss: 0.2096 - acc: 0.922 - ETA: 0s - loss: 0.2095 - acc: 0.922 - ETA: 0s - loss: 0.2092 - acc: 0.922 - ETA: 0s - loss: 0.2086 - acc: 0.922 - ETA: 0s - loss: 0.2089 - acc: 0.922 - ETA: 0s - loss: 0.2090 - acc: 0.922 - ETA: 0s - loss: 0.2090 - acc: 0.922 - ETA: 0s - loss: 0.2089 - acc: 0.922 - ETA: 0s - loss: 0.2088 - acc: 0.922 - ETA: 0s - loss: 0.2091 - acc: 0.922 - ETA: 0s - loss: 0.2087 - acc: 0.922 - ETA: 0s - loss: 0.2086 - acc: 0.922 - ETA: 0s - loss: 0.2085 - acc: 0.922 - 8s 336us/sample - loss: 0.2088 - acc: 0.9218 - val_loss: 0.3772 - val_acc: 0.8426\n",
      "Epoch 6/10\n"
     ]
    },
    {
     "name": "stdout",
     "output_type": "stream",
     "text": [
      "25000/25000 [==============================] - ETA: 14s - loss: 0.1800 - acc: 0.96 - ETA: 9s - loss: 0.1342 - acc: 0.9688 - ETA: 6s - loss: 0.1400 - acc: 0.956 - ETA: 6s - loss: 0.1571 - acc: 0.947 - ETA: 6s - loss: 0.1577 - acc: 0.948 - ETA: 6s - loss: 0.1610 - acc: 0.943 - ETA: 6s - loss: 0.1611 - acc: 0.946 - ETA: 6s - loss: 0.1587 - acc: 0.947 - ETA: 6s - loss: 0.1611 - acc: 0.947 - ETA: 6s - loss: 0.1660 - acc: 0.945 - ETA: 5s - loss: 0.1689 - acc: 0.945 - ETA: 6s - loss: 0.1682 - acc: 0.944 - ETA: 5s - loss: 0.1673 - acc: 0.941 - ETA: 5s - loss: 0.1639 - acc: 0.943 - ETA: 5s - loss: 0.1657 - acc: 0.943 - ETA: 5s - loss: 0.1674 - acc: 0.942 - ETA: 5s - loss: 0.1656 - acc: 0.944 - ETA: 5s - loss: 0.1668 - acc: 0.943 - ETA: 5s - loss: 0.1689 - acc: 0.942 - ETA: 5s - loss: 0.1687 - acc: 0.942 - ETA: 5s - loss: 0.1686 - acc: 0.942 - ETA: 5s - loss: 0.1693 - acc: 0.942 - ETA: 5s - loss: 0.1691 - acc: 0.942 - ETA: 5s - loss: 0.1683 - acc: 0.942 - ETA: 4s - loss: 0.1676 - acc: 0.942 - ETA: 4s - loss: 0.1691 - acc: 0.942 - ETA: 4s - loss: 0.1686 - acc: 0.942 - ETA: 4s - loss: 0.1693 - acc: 0.942 - ETA: 4s - loss: 0.1686 - acc: 0.943 - ETA: 4s - loss: 0.1690 - acc: 0.943 - ETA: 4s - loss: 0.1699 - acc: 0.942 - ETA: 4s - loss: 0.1698 - acc: 0.942 - ETA: 4s - loss: 0.1703 - acc: 0.942 - ETA: 4s - loss: 0.1694 - acc: 0.942 - ETA: 4s - loss: 0.1694 - acc: 0.943 - ETA: 4s - loss: 0.1696 - acc: 0.942 - ETA: 4s - loss: 0.1703 - acc: 0.942 - ETA: 4s - loss: 0.1725 - acc: 0.942 - ETA: 4s - loss: 0.1726 - acc: 0.941 - ETA: 4s - loss: 0.1738 - acc: 0.941 - ETA: 4s - loss: 0.1736 - acc: 0.941 - ETA: 4s - loss: 0.1737 - acc: 0.941 - ETA: 4s - loss: 0.1754 - acc: 0.940 - ETA: 4s - loss: 0.1749 - acc: 0.940 - ETA: 3s - loss: 0.1765 - acc: 0.939 - ETA: 3s - loss: 0.1777 - acc: 0.939 - ETA: 3s - loss: 0.1783 - acc: 0.938 - ETA: 3s - loss: 0.1791 - acc: 0.938 - ETA: 3s - loss: 0.1805 - acc: 0.937 - ETA: 3s - loss: 0.1817 - acc: 0.937 - ETA: 3s - loss: 0.1822 - acc: 0.936 - ETA: 3s - loss: 0.1826 - acc: 0.936 - ETA: 3s - loss: 0.1822 - acc: 0.937 - ETA: 3s - loss: 0.1828 - acc: 0.937 - ETA: 3s - loss: 0.1824 - acc: 0.936 - ETA: 3s - loss: 0.1827 - acc: 0.936 - ETA: 3s - loss: 0.1823 - acc: 0.936 - ETA: 3s - loss: 0.1826 - acc: 0.936 - ETA: 3s - loss: 0.1828 - acc: 0.936 - ETA: 3s - loss: 0.1834 - acc: 0.936 - ETA: 3s - loss: 0.1835 - acc: 0.935 - ETA: 2s - loss: 0.1831 - acc: 0.936 - ETA: 2s - loss: 0.1832 - acc: 0.935 - ETA: 2s - loss: 0.1835 - acc: 0.935 - ETA: 2s - loss: 0.1840 - acc: 0.935 - ETA: 2s - loss: 0.1835 - acc: 0.936 - ETA: 2s - loss: 0.1831 - acc: 0.936 - ETA: 2s - loss: 0.1833 - acc: 0.936 - ETA: 2s - loss: 0.1834 - acc: 0.936 - ETA: 2s - loss: 0.1834 - acc: 0.936 - ETA: 2s - loss: 0.1830 - acc: 0.936 - ETA: 2s - loss: 0.1827 - acc: 0.936 - ETA: 2s - loss: 0.1825 - acc: 0.936 - ETA: 2s - loss: 0.1822 - acc: 0.936 - ETA: 2s - loss: 0.1821 - acc: 0.936 - ETA: 2s - loss: 0.1825 - acc: 0.936 - ETA: 2s - loss: 0.1823 - acc: 0.936 - ETA: 2s - loss: 0.1822 - acc: 0.936 - ETA: 2s - loss: 0.1822 - acc: 0.936 - ETA: 1s - loss: 0.1824 - acc: 0.936 - ETA: 1s - loss: 0.1830 - acc: 0.936 - ETA: 1s - loss: 0.1830 - acc: 0.936 - ETA: 1s - loss: 0.1834 - acc: 0.936 - ETA: 1s - loss: 0.1830 - acc: 0.936 - ETA: 1s - loss: 0.1831 - acc: 0.935 - ETA: 1s - loss: 0.1836 - acc: 0.935 - ETA: 1s - loss: 0.1834 - acc: 0.935 - ETA: 1s - loss: 0.1840 - acc: 0.935 - ETA: 1s - loss: 0.1842 - acc: 0.934 - ETA: 1s - loss: 0.1846 - acc: 0.934 - ETA: 1s - loss: 0.1841 - acc: 0.934 - ETA: 1s - loss: 0.1845 - acc: 0.934 - ETA: 1s - loss: 0.1842 - acc: 0.934 - ETA: 1s - loss: 0.1843 - acc: 0.934 - ETA: 1s - loss: 0.1842 - acc: 0.934 - ETA: 1s - loss: 0.1840 - acc: 0.934 - ETA: 1s - loss: 0.1848 - acc: 0.934 - ETA: 1s - loss: 0.1852 - acc: 0.934 - ETA: 0s - loss: 0.1856 - acc: 0.934 - ETA: 0s - loss: 0.1855 - acc: 0.933 - ETA: 0s - loss: 0.1855 - acc: 0.933 - ETA: 0s - loss: 0.1856 - acc: 0.933 - ETA: 0s - loss: 0.1855 - acc: 0.933 - ETA: 0s - loss: 0.1860 - acc: 0.933 - ETA: 0s - loss: 0.1860 - acc: 0.933 - ETA: 0s - loss: 0.1859 - acc: 0.933 - ETA: 0s - loss: 0.1862 - acc: 0.933 - ETA: 0s - loss: 0.1866 - acc: 0.932 - ETA: 0s - loss: 0.1869 - acc: 0.932 - ETA: 0s - loss: 0.1871 - acc: 0.932 - ETA: 0s - loss: 0.1872 - acc: 0.932 - ETA: 0s - loss: 0.1875 - acc: 0.931 - ETA: 0s - loss: 0.1876 - acc: 0.931 - ETA: 0s - loss: 0.1876 - acc: 0.931 - ETA: 0s - loss: 0.1878 - acc: 0.931 - ETA: 0s - loss: 0.1880 - acc: 0.931 - 8s 326us/sample - loss: 0.1883 - acc: 0.9313 - val_loss: 0.3930 - val_acc: 0.8414\n",
      "Epoch 7/10\n"
     ]
    },
    {
     "name": "stdout",
     "output_type": "stream",
     "text": [
      "25000/25000 [==============================] - ETA: 7s - loss: 0.1467 - acc: 0.968 - ETA: 8s - loss: 0.1536 - acc: 0.958 - ETA: 7s - loss: 0.1540 - acc: 0.956 - ETA: 6s - loss: 0.1536 - acc: 0.962 - ETA: 6s - loss: 0.1506 - acc: 0.960 - ETA: 6s - loss: 0.1521 - acc: 0.953 - ETA: 6s - loss: 0.1477 - acc: 0.957 - ETA: 6s - loss: 0.1491 - acc: 0.955 - ETA: 6s - loss: 0.1532 - acc: 0.952 - ETA: 5s - loss: 0.1490 - acc: 0.955 - ETA: 5s - loss: 0.1475 - acc: 0.955 - ETA: 5s - loss: 0.1482 - acc: 0.956 - ETA: 5s - loss: 0.1474 - acc: 0.955 - ETA: 5s - loss: 0.1450 - acc: 0.956 - ETA: 5s - loss: 0.1445 - acc: 0.956 - ETA: 5s - loss: 0.1418 - acc: 0.957 - ETA: 5s - loss: 0.1445 - acc: 0.955 - ETA: 5s - loss: 0.1471 - acc: 0.954 - ETA: 5s - loss: 0.1499 - acc: 0.953 - ETA: 5s - loss: 0.1515 - acc: 0.951 - ETA: 5s - loss: 0.1504 - acc: 0.952 - ETA: 5s - loss: 0.1506 - acc: 0.951 - ETA: 5s - loss: 0.1519 - acc: 0.950 - ETA: 4s - loss: 0.1542 - acc: 0.949 - ETA: 4s - loss: 0.1558 - acc: 0.949 - ETA: 4s - loss: 0.1547 - acc: 0.949 - ETA: 4s - loss: 0.1543 - acc: 0.949 - ETA: 4s - loss: 0.1540 - acc: 0.950 - ETA: 4s - loss: 0.1533 - acc: 0.950 - ETA: 4s - loss: 0.1539 - acc: 0.950 - ETA: 4s - loss: 0.1553 - acc: 0.949 - ETA: 4s - loss: 0.1560 - acc: 0.949 - ETA: 4s - loss: 0.1562 - acc: 0.949 - ETA: 4s - loss: 0.1545 - acc: 0.949 - ETA: 4s - loss: 0.1557 - acc: 0.949 - ETA: 4s - loss: 0.1557 - acc: 0.949 - ETA: 4s - loss: 0.1565 - acc: 0.949 - ETA: 4s - loss: 0.1575 - acc: 0.949 - ETA: 4s - loss: 0.1580 - acc: 0.949 - ETA: 4s - loss: 0.1592 - acc: 0.948 - ETA: 4s - loss: 0.1600 - acc: 0.948 - ETA: 4s - loss: 0.1607 - acc: 0.948 - ETA: 4s - loss: 0.1597 - acc: 0.948 - ETA: 4s - loss: 0.1601 - acc: 0.948 - ETA: 3s - loss: 0.1606 - acc: 0.948 - ETA: 3s - loss: 0.1619 - acc: 0.947 - ETA: 3s - loss: 0.1622 - acc: 0.947 - ETA: 3s - loss: 0.1615 - acc: 0.947 - ETA: 3s - loss: 0.1619 - acc: 0.947 - ETA: 3s - loss: 0.1623 - acc: 0.947 - ETA: 3s - loss: 0.1623 - acc: 0.946 - ETA: 3s - loss: 0.1628 - acc: 0.946 - ETA: 3s - loss: 0.1647 - acc: 0.945 - ETA: 3s - loss: 0.1643 - acc: 0.945 - ETA: 3s - loss: 0.1648 - acc: 0.945 - ETA: 3s - loss: 0.1646 - acc: 0.945 - ETA: 3s - loss: 0.1645 - acc: 0.945 - ETA: 3s - loss: 0.1645 - acc: 0.945 - ETA: 3s - loss: 0.1641 - acc: 0.945 - ETA: 3s - loss: 0.1639 - acc: 0.945 - ETA: 3s - loss: 0.1645 - acc: 0.945 - ETA: 3s - loss: 0.1654 - acc: 0.945 - ETA: 3s - loss: 0.1663 - acc: 0.944 - ETA: 2s - loss: 0.1662 - acc: 0.944 - ETA: 2s - loss: 0.1654 - acc: 0.944 - ETA: 2s - loss: 0.1659 - acc: 0.944 - ETA: 2s - loss: 0.1659 - acc: 0.944 - ETA: 2s - loss: 0.1659 - acc: 0.944 - ETA: 2s - loss: 0.1656 - acc: 0.944 - ETA: 2s - loss: 0.1656 - acc: 0.944 - ETA: 2s - loss: 0.1655 - acc: 0.944 - ETA: 2s - loss: 0.1652 - acc: 0.944 - ETA: 2s - loss: 0.1653 - acc: 0.944 - ETA: 2s - loss: 0.1652 - acc: 0.944 - ETA: 2s - loss: 0.1655 - acc: 0.944 - ETA: 2s - loss: 0.1653 - acc: 0.944 - ETA: 2s - loss: 0.1649 - acc: 0.944 - ETA: 2s - loss: 0.1651 - acc: 0.944 - ETA: 2s - loss: 0.1652 - acc: 0.944 - ETA: 2s - loss: 0.1653 - acc: 0.944 - ETA: 2s - loss: 0.1650 - acc: 0.944 - ETA: 1s - loss: 0.1644 - acc: 0.944 - ETA: 1s - loss: 0.1639 - acc: 0.944 - ETA: 1s - loss: 0.1638 - acc: 0.944 - ETA: 1s - loss: 0.1648 - acc: 0.944 - ETA: 1s - loss: 0.1650 - acc: 0.944 - ETA: 1s - loss: 0.1648 - acc: 0.944 - ETA: 1s - loss: 0.1647 - acc: 0.944 - ETA: 1s - loss: 0.1648 - acc: 0.944 - ETA: 1s - loss: 0.1649 - acc: 0.944 - ETA: 1s - loss: 0.1652 - acc: 0.943 - ETA: 1s - loss: 0.1646 - acc: 0.944 - ETA: 1s - loss: 0.1650 - acc: 0.943 - ETA: 1s - loss: 0.1656 - acc: 0.943 - ETA: 1s - loss: 0.1658 - acc: 0.943 - ETA: 1s - loss: 0.1651 - acc: 0.943 - ETA: 1s - loss: 0.1655 - acc: 0.943 - ETA: 1s - loss: 0.1664 - acc: 0.943 - ETA: 0s - loss: 0.1666 - acc: 0.942 - ETA: 0s - loss: 0.1665 - acc: 0.942 - ETA: 0s - loss: 0.1666 - acc: 0.942 - ETA: 0s - loss: 0.1665 - acc: 0.942 - ETA: 0s - loss: 0.1664 - acc: 0.942 - ETA: 0s - loss: 0.1669 - acc: 0.942 - ETA: 0s - loss: 0.1674 - acc: 0.942 - ETA: 0s - loss: 0.1675 - acc: 0.942 - ETA: 0s - loss: 0.1683 - acc: 0.941 - ETA: 0s - loss: 0.1689 - acc: 0.941 - ETA: 0s - loss: 0.1696 - acc: 0.941 - ETA: 0s - loss: 0.1700 - acc: 0.940 - ETA: 0s - loss: 0.1699 - acc: 0.940 - ETA: 0s - loss: 0.1705 - acc: 0.940 - 8s 305us/sample - loss: 0.1702 - acc: 0.9408 - val_loss: 0.4171 - val_acc: 0.8372\n",
      "Epoch 8/10\n",
      "25000/25000 [==============================] - ETA: 14s - loss: 0.2863 - acc: 0.93 - ETA: 5s - loss: 0.1566 - acc: 0.9583 - ETA: 4s - loss: 0.1494 - acc: 0.957 - ETA: 4s - loss: 0.1421 - acc: 0.963 - ETA: 4s - loss: 0.1417 - acc: 0.961 - ETA: 4s - loss: 0.1477 - acc: 0.953 - ETA: 4s - loss: 0.1473 - acc: 0.953 - ETA: 4s - loss: 0.1482 - acc: 0.953 - ETA: 4s - loss: 0.1455 - acc: 0.953 - ETA: 4s - loss: 0.1466 - acc: 0.954 - ETA: 4s - loss: 0.1479 - acc: 0.954 - ETA: 4s - loss: 0.1493 - acc: 0.952 - ETA: 4s - loss: 0.1470 - acc: 0.954 - ETA: 4s - loss: 0.1468 - acc: 0.954 - ETA: 3s - loss: 0.1480 - acc: 0.953 - ETA: 3s - loss: 0.1505 - acc: 0.954 - ETA: 3s - loss: 0.1505 - acc: 0.954 - ETA: 3s - loss: 0.1499 - acc: 0.954 - ETA: 3s - loss: 0.1535 - acc: 0.952 - ETA: 3s - loss: 0.1527 - acc: 0.951 - ETA: 3s - loss: 0.1523 - acc: 0.950 - ETA: 3s - loss: 0.1506 - acc: 0.951 - ETA: 3s - loss: 0.1524 - acc: 0.950 - ETA: 3s - loss: 0.1511 - acc: 0.951 - ETA: 3s - loss: 0.1503 - acc: 0.951 - ETA: 3s - loss: 0.1497 - acc: 0.951 - ETA: 3s - loss: 0.1492 - acc: 0.951 - ETA: 3s - loss: 0.1493 - acc: 0.951 - ETA: 3s - loss: 0.1494 - acc: 0.951 - ETA: 3s - loss: 0.1498 - acc: 0.951 - ETA: 3s - loss: 0.1502 - acc: 0.951 - ETA: 2s - loss: 0.1506 - acc: 0.951 - ETA: 2s - loss: 0.1498 - acc: 0.950 - ETA: 2s - loss: 0.1493 - acc: 0.950 - ETA: 2s - loss: 0.1501 - acc: 0.950 - ETA: 2s - loss: 0.1499 - acc: 0.950 - ETA: 2s - loss: 0.1507 - acc: 0.950 - ETA: 2s - loss: 0.1501 - acc: 0.950 - ETA: 2s - loss: 0.1498 - acc: 0.950 - ETA: 2s - loss: 0.1501 - acc: 0.950 - ETA: 2s - loss: 0.1496 - acc: 0.950 - ETA: 2s - loss: 0.1497 - acc: 0.949 - ETA: 2s - loss: 0.1495 - acc: 0.949 - ETA: 2s - loss: 0.1486 - acc: 0.950 - ETA: 2s - loss: 0.1478 - acc: 0.950 - ETA: 2s - loss: 0.1472 - acc: 0.950 - ETA: 2s - loss: 0.1462 - acc: 0.951 - ETA: 2s - loss: 0.1462 - acc: 0.951 - ETA: 2s - loss: 0.1462 - acc: 0.950 - ETA: 2s - loss: 0.1467 - acc: 0.950 - ETA: 1s - loss: 0.1468 - acc: 0.950 - ETA: 1s - loss: 0.1470 - acc: 0.950 - ETA: 1s - loss: 0.1468 - acc: 0.950 - ETA: 1s - loss: 0.1469 - acc: 0.950 - ETA: 1s - loss: 0.1482 - acc: 0.949 - ETA: 1s - loss: 0.1488 - acc: 0.949 - ETA: 1s - loss: 0.1487 - acc: 0.949 - ETA: 1s - loss: 0.1482 - acc: 0.949 - ETA: 1s - loss: 0.1493 - acc: 0.949 - ETA: 1s - loss: 0.1496 - acc: 0.949 - ETA: 1s - loss: 0.1500 - acc: 0.949 - ETA: 1s - loss: 0.1499 - acc: 0.949 - ETA: 1s - loss: 0.1506 - acc: 0.949 - ETA: 1s - loss: 0.1505 - acc: 0.949 - ETA: 1s - loss: 0.1503 - acc: 0.949 - ETA: 1s - loss: 0.1499 - acc: 0.949 - ETA: 1s - loss: 0.1501 - acc: 0.949 - ETA: 1s - loss: 0.1500 - acc: 0.949 - ETA: 1s - loss: 0.1498 - acc: 0.949 - ETA: 1s - loss: 0.1494 - acc: 0.949 - ETA: 0s - loss: 0.1495 - acc: 0.949 - ETA: 0s - loss: 0.1504 - acc: 0.949 - ETA: 0s - loss: 0.1509 - acc: 0.949 - ETA: 0s - loss: 0.1507 - acc: 0.949 - ETA: 0s - loss: 0.1512 - acc: 0.949 - ETA: 0s - loss: 0.1516 - acc: 0.948 - ETA: 0s - loss: 0.1518 - acc: 0.948 - ETA: 0s - loss: 0.1526 - acc: 0.948 - ETA: 0s - loss: 0.1536 - acc: 0.948 - ETA: 0s - loss: 0.1536 - acc: 0.948 - ETA: 0s - loss: 0.1533 - acc: 0.948 - ETA: 0s - loss: 0.1537 - acc: 0.948 - ETA: 0s - loss: 0.1542 - acc: 0.948 - ETA: 0s - loss: 0.1539 - acc: 0.948 - ETA: 0s - loss: 0.1547 - acc: 0.948 - ETA: 0s - loss: 0.1549 - acc: 0.947 - ETA: 0s - loss: 0.1546 - acc: 0.947 - ETA: 0s - loss: 0.1549 - acc: 0.947 - ETA: 0s - loss: 0.1545 - acc: 0.947 - ETA: 0s - loss: 0.1553 - acc: 0.947 - 6s 257us/sample - loss: 0.1556 - acc: 0.9473 - val_loss: 0.4503 - val_acc: 0.8318\n",
      "Epoch 9/10\n"
     ]
    },
    {
     "name": "stdout",
     "output_type": "stream",
     "text": [
      "25000/25000 [==============================] - ETA: 4s - loss: 0.1368 - acc: 0.968 - ETA: 5s - loss: 0.0988 - acc: 0.961 - ETA: 4s - loss: 0.1260 - acc: 0.956 - ETA: 4s - loss: 0.1251 - acc: 0.959 - ETA: 4s - loss: 0.1179 - acc: 0.966 - ETA: 4s - loss: 0.1172 - acc: 0.965 - ETA: 4s - loss: 0.1163 - acc: 0.964 - ETA: 4s - loss: 0.1167 - acc: 0.964 - ETA: 4s - loss: 0.1184 - acc: 0.962 - ETA: 4s - loss: 0.1196 - acc: 0.962 - ETA: 4s - loss: 0.1189 - acc: 0.963 - ETA: 4s - loss: 0.1191 - acc: 0.964 - ETA: 4s - loss: 0.1204 - acc: 0.963 - ETA: 4s - loss: 0.1235 - acc: 0.963 - ETA: 4s - loss: 0.1219 - acc: 0.963 - ETA: 3s - loss: 0.1220 - acc: 0.964 - ETA: 3s - loss: 0.1256 - acc: 0.961 - ETA: 3s - loss: 0.1254 - acc: 0.962 - ETA: 3s - loss: 0.1254 - acc: 0.962 - ETA: 3s - loss: 0.1246 - acc: 0.962 - ETA: 3s - loss: 0.1261 - acc: 0.961 - ETA: 3s - loss: 0.1252 - acc: 0.961 - ETA: 3s - loss: 0.1257 - acc: 0.961 - ETA: 3s - loss: 0.1256 - acc: 0.961 - ETA: 3s - loss: 0.1255 - acc: 0.961 - ETA: 3s - loss: 0.1254 - acc: 0.960 - ETA: 3s - loss: 0.1267 - acc: 0.960 - ETA: 3s - loss: 0.1294 - acc: 0.959 - ETA: 3s - loss: 0.1283 - acc: 0.959 - ETA: 3s - loss: 0.1310 - acc: 0.958 - ETA: 3s - loss: 0.1325 - acc: 0.958 - ETA: 3s - loss: 0.1347 - acc: 0.957 - ETA: 3s - loss: 0.1348 - acc: 0.957 - ETA: 3s - loss: 0.1346 - acc: 0.957 - ETA: 2s - loss: 0.1354 - acc: 0.957 - ETA: 2s - loss: 0.1353 - acc: 0.956 - ETA: 2s - loss: 0.1364 - acc: 0.956 - ETA: 2s - loss: 0.1370 - acc: 0.955 - ETA: 2s - loss: 0.1365 - acc: 0.956 - ETA: 2s - loss: 0.1357 - acc: 0.956 - ETA: 2s - loss: 0.1353 - acc: 0.956 - ETA: 2s - loss: 0.1358 - acc: 0.955 - ETA: 2s - loss: 0.1367 - acc: 0.955 - ETA: 2s - loss: 0.1363 - acc: 0.955 - ETA: 2s - loss: 0.1374 - acc: 0.954 - ETA: 2s - loss: 0.1375 - acc: 0.954 - ETA: 2s - loss: 0.1372 - acc: 0.954 - ETA: 2s - loss: 0.1361 - acc: 0.954 - ETA: 2s - loss: 0.1371 - acc: 0.954 - ETA: 2s - loss: 0.1366 - acc: 0.954 - ETA: 2s - loss: 0.1368 - acc: 0.954 - ETA: 2s - loss: 0.1373 - acc: 0.954 - ETA: 2s - loss: 0.1368 - acc: 0.954 - ETA: 1s - loss: 0.1373 - acc: 0.954 - ETA: 1s - loss: 0.1368 - acc: 0.953 - ETA: 1s - loss: 0.1371 - acc: 0.953 - ETA: 1s - loss: 0.1376 - acc: 0.953 - ETA: 1s - loss: 0.1372 - acc: 0.953 - ETA: 1s - loss: 0.1379 - acc: 0.953 - ETA: 1s - loss: 0.1387 - acc: 0.952 - ETA: 1s - loss: 0.1392 - acc: 0.952 - ETA: 1s - loss: 0.1392 - acc: 0.952 - ETA: 1s - loss: 0.1389 - acc: 0.952 - ETA: 1s - loss: 0.1392 - acc: 0.952 - ETA: 1s - loss: 0.1385 - acc: 0.952 - ETA: 1s - loss: 0.1386 - acc: 0.952 - ETA: 1s - loss: 0.1393 - acc: 0.952 - ETA: 1s - loss: 0.1390 - acc: 0.952 - ETA: 1s - loss: 0.1389 - acc: 0.952 - ETA: 1s - loss: 0.1388 - acc: 0.952 - ETA: 1s - loss: 0.1389 - acc: 0.952 - ETA: 0s - loss: 0.1388 - acc: 0.952 - ETA: 0s - loss: 0.1390 - acc: 0.952 - ETA: 0s - loss: 0.1394 - acc: 0.952 - ETA: 0s - loss: 0.1386 - acc: 0.953 - ETA: 0s - loss: 0.1383 - acc: 0.953 - ETA: 0s - loss: 0.1387 - acc: 0.952 - ETA: 0s - loss: 0.1388 - acc: 0.952 - ETA: 0s - loss: 0.1390 - acc: 0.952 - ETA: 0s - loss: 0.1392 - acc: 0.952 - ETA: 0s - loss: 0.1401 - acc: 0.952 - ETA: 0s - loss: 0.1402 - acc: 0.952 - ETA: 0s - loss: 0.1408 - acc: 0.951 - ETA: 0s - loss: 0.1412 - acc: 0.951 - ETA: 0s - loss: 0.1418 - acc: 0.951 - ETA: 0s - loss: 0.1419 - acc: 0.951 - ETA: 0s - loss: 0.1417 - acc: 0.951 - ETA: 0s - loss: 0.1423 - acc: 0.950 - ETA: 0s - loss: 0.1426 - acc: 0.950 - ETA: 0s - loss: 0.1431 - acc: 0.950 - 6s 255us/sample - loss: 0.1432 - acc: 0.9507 - val_loss: 0.5019 - val_acc: 0.8244\n",
      "Epoch 10/10\n",
      "25000/25000 [==============================] - ETA: 9s - loss: 0.1859 - acc: 0.875 - ETA: 5s - loss: 0.1112 - acc: 0.958 - ETA: 4s - loss: 0.1137 - acc: 0.962 - ETA: 4s - loss: 0.1135 - acc: 0.964 - ETA: 4s - loss: 0.1147 - acc: 0.962 - ETA: 4s - loss: 0.1267 - acc: 0.960 - ETA: 4s - loss: 0.1234 - acc: 0.959 - ETA: 4s - loss: 0.1220 - acc: 0.961 - ETA: 4s - loss: 0.1239 - acc: 0.961 - ETA: 4s - loss: 0.1233 - acc: 0.961 - ETA: 4s - loss: 0.1250 - acc: 0.960 - ETA: 4s - loss: 0.1233 - acc: 0.961 - ETA: 4s - loss: 0.1232 - acc: 0.961 - ETA: 3s - loss: 0.1248 - acc: 0.960 - ETA: 3s - loss: 0.1237 - acc: 0.960 - ETA: 3s - loss: 0.1217 - acc: 0.961 - ETA: 3s - loss: 0.1195 - acc: 0.962 - ETA: 3s - loss: 0.1189 - acc: 0.962 - ETA: 3s - loss: 0.1188 - acc: 0.962 - ETA: 3s - loss: 0.1199 - acc: 0.962 - ETA: 3s - loss: 0.1198 - acc: 0.963 - ETA: 3s - loss: 0.1183 - acc: 0.963 - ETA: 3s - loss: 0.1175 - acc: 0.963 - ETA: 3s - loss: 0.1181 - acc: 0.964 - ETA: 3s - loss: 0.1173 - acc: 0.964 - ETA: 3s - loss: 0.1172 - acc: 0.964 - ETA: 3s - loss: 0.1179 - acc: 0.964 - ETA: 3s - loss: 0.1184 - acc: 0.963 - ETA: 3s - loss: 0.1185 - acc: 0.963 - ETA: 3s - loss: 0.1179 - acc: 0.963 - ETA: 3s - loss: 0.1181 - acc: 0.963 - ETA: 3s - loss: 0.1176 - acc: 0.963 - ETA: 3s - loss: 0.1178 - acc: 0.963 - ETA: 2s - loss: 0.1182 - acc: 0.963 - ETA: 2s - loss: 0.1180 - acc: 0.963 - ETA: 2s - loss: 0.1185 - acc: 0.963 - ETA: 2s - loss: 0.1185 - acc: 0.963 - ETA: 2s - loss: 0.1188 - acc: 0.963 - ETA: 2s - loss: 0.1193 - acc: 0.963 - ETA: 2s - loss: 0.1186 - acc: 0.963 - ETA: 2s - loss: 0.1191 - acc: 0.963 - ETA: 2s - loss: 0.1189 - acc: 0.963 - ETA: 2s - loss: 0.1189 - acc: 0.963 - ETA: 2s - loss: 0.1190 - acc: 0.963 - ETA: 2s - loss: 0.1188 - acc: 0.963 - ETA: 2s - loss: 0.1206 - acc: 0.963 - ETA: 2s - loss: 0.1206 - acc: 0.963 - ETA: 2s - loss: 0.1209 - acc: 0.963 - ETA: 2s - loss: 0.1206 - acc: 0.963 - ETA: 2s - loss: 0.1225 - acc: 0.962 - ETA: 2s - loss: 0.1230 - acc: 0.962 - ETA: 2s - loss: 0.1225 - acc: 0.962 - ETA: 2s - loss: 0.1231 - acc: 0.962 - ETA: 1s - loss: 0.1229 - acc: 0.962 - ETA: 1s - loss: 0.1243 - acc: 0.961 - ETA: 1s - loss: 0.1250 - acc: 0.961 - ETA: 1s - loss: 0.1251 - acc: 0.961 - ETA: 1s - loss: 0.1251 - acc: 0.961 - ETA: 1s - loss: 0.1260 - acc: 0.960 - ETA: 1s - loss: 0.1259 - acc: 0.960 - ETA: 1s - loss: 0.1267 - acc: 0.960 - ETA: 1s - loss: 0.1264 - acc: 0.960 - ETA: 1s - loss: 0.1273 - acc: 0.960 - ETA: 1s - loss: 0.1283 - acc: 0.960 - ETA: 1s - loss: 0.1283 - acc: 0.960 - ETA: 1s - loss: 0.1282 - acc: 0.960 - ETA: 1s - loss: 0.1284 - acc: 0.960 - ETA: 1s - loss: 0.1293 - acc: 0.959 - ETA: 1s - loss: 0.1291 - acc: 0.959 - ETA: 1s - loss: 0.1295 - acc: 0.959 - ETA: 1s - loss: 0.1294 - acc: 0.959 - ETA: 1s - loss: 0.1293 - acc: 0.959 - ETA: 0s - loss: 0.1295 - acc: 0.959 - ETA: 0s - loss: 0.1292 - acc: 0.959 - ETA: 0s - loss: 0.1291 - acc: 0.959 - ETA: 0s - loss: 0.1294 - acc: 0.959 - ETA: 0s - loss: 0.1301 - acc: 0.959 - ETA: 0s - loss: 0.1297 - acc: 0.959 - ETA: 0s - loss: 0.1296 - acc: 0.959 - ETA: 0s - loss: 0.1300 - acc: 0.959 - ETA: 0s - loss: 0.1301 - acc: 0.959 - ETA: 0s - loss: 0.1304 - acc: 0.958 - ETA: 0s - loss: 0.1309 - acc: 0.958 - ETA: 0s - loss: 0.1307 - acc: 0.958 - ETA: 0s - loss: 0.1305 - acc: 0.958 - ETA: 0s - loss: 0.1300 - acc: 0.958 - ETA: 0s - loss: 0.1302 - acc: 0.958 - ETA: 0s - loss: 0.1311 - acc: 0.958 - ETA: 0s - loss: 0.1314 - acc: 0.958 - ETA: 0s - loss: 0.1312 - acc: 0.958 - ETA: 0s - loss: 0.1312 - acc: 0.958 - 6s 257us/sample - loss: 0.1312 - acc: 0.9580 - val_loss: 0.5213 - val_acc: 0.8251\n",
      "(10000, 16)\n"
     ]
    }
   ],
   "source": []
  },
  {
   "cell_type": "code",
   "execution_count": 42,
   "metadata": {},
   "outputs": [],
   "source": []
  },
  {
   "cell_type": "code",
   "execution_count": null,
   "metadata": {},
   "outputs": [],
   "source": []
  }
 ],
 "metadata": {
  "kernelspec": {
   "display_name": "Python 3",
   "language": "python",
   "name": "python3"
  },
  "language_info": {
   "codemirror_mode": {
    "name": "ipython",
    "version": 3
   },
   "file_extension": ".py",
   "mimetype": "text/x-python",
   "name": "python",
   "nbconvert_exporter": "python",
   "pygments_lexer": "ipython3",
   "version": "3.7.4"
  }
 },
 "nbformat": 4,
 "nbformat_minor": 2
}
